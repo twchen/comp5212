{
 "cells": [
  {
   "cell_type": "code",
   "execution_count": null,
   "metadata": {},
   "outputs": [],
   "source": [
    "import numpy as np\n",
    "from sklearn.base import BaseEstimator\n",
    "from sklearn.preprocessing import MinMaxScaler\n",
    "from sklearn.model_selection import ShuffleSplit, GridSearchCV, train_test_split\n",
    "from sklearn.metrics import mean_squared_error\n",
    "from collections import deque\n",
    "import multiprocessing\n",
    "import os\n",
    "import random\n",
    "import csv"
   ]
  },
  {
   "cell_type": "code",
   "execution_count": null,
   "metadata": {},
   "outputs": [],
   "source": [
    "class PMF(BaseEstimator):\n",
    "    def __init__(self, n_users, n_items, n_factors=30, lambda_U=0.1, lambda_V=0.1, \\\n",
    "                 learning_rate=0.1, max_iter=2000, tol=1e-4, patience=20, \\\n",
    "                 verbose=False, log_interval=20):\n",
    "        self.n_users = n_users\n",
    "        self.n_items = n_items\n",
    "        self.n_factors = n_factors\n",
    "        self.lambda_U = lambda_U\n",
    "        self.lambda_V = lambda_V\n",
    "        self.learning_rate = learning_rate\n",
    "        self.max_iter = max_iter\n",
    "        self.tol = tol\n",
    "        self.patience = max(3, patience)\n",
    "        self.verbose = verbose\n",
    "        self.log_interval = log_interval\n",
    "\n",
    "    # X: rows of (user_id, item_id)\n",
    "    # y: corresponding ratings\n",
    "    def fit(self, X, y):\n",
    "        self.U = np.random.uniform(-0.01, 0.01, size=(self.n_users, self.n_factors))\n",
    "        self.V = np.random.uniform(-0.01, 0.01, size=(self.n_items, self.n_factors))\n",
    "        history = deque([np.inf] * self.patience, maxlen=self.patience)\n",
    "        for n_iter in range(0, self.max_iter):\n",
    "            loss = self.compute_loss(X, y)\n",
    "            if self.verbose and n_iter % self.log_interval == 0:\n",
    "                print(f'Iteration {n_iter}, Loss: {loss}')\n",
    "            recent_losses = [history[i] for i in range(-3, 0)]\n",
    "            # adaptive learning rate\n",
    "            if max(recent_losses) - loss < self.tol and self.learning_rate > 1e-6:\n",
    "                self.learning_rate /= 5\n",
    "            # early stopping\n",
    "            if max(history) - loss < self.tol:\n",
    "                break\n",
    "            history.append(loss)\n",
    "            grad_U = self.lambda_U * self.U\n",
    "            grad_V = self.lambda_V * self.V\n",
    "            for [i, j], rating in zip(X, y):\n",
    "                z = self.sigmoid(self.U[i] @ self.V[j])\n",
    "                a = (rating - z) * z * (1 - z)\n",
    "                #a = rating - self.U[i] @ self.V[j]\n",
    "                grad_U[i] -= a * self.V[j]\n",
    "                grad_V[j] -= a * self.U[i]\n",
    "            self.U -= self.learning_rate * grad_U\n",
    "            self.V -= self.learning_rate * grad_V\n",
    "        return self\n",
    "    \n",
    "    @staticmethod\n",
    "    def sigmoid(X):\n",
    "        # prevent overflow\n",
    "        X = np.clip(X, -500, 500)\n",
    "        return 1 / (1 + np.exp(-X))\n",
    "    \n",
    "    def predict(self, X):\n",
    "        y = np.zeros(X.shape[0])\n",
    "        for idx, [i, j] in enumerate(X):\n",
    "            y[idx] = self.sigmoid(self.U[i] @ self.V[j])\n",
    "        return y\n",
    "\n",
    "    # negated root mean squared error\n",
    "    def score(self, X, y):\n",
    "        y_pred = self.predict(X)\n",
    "        mse = mean_squared_error(y, y_pred)\n",
    "        return -np.sqrt(mse)\n",
    "    \n",
    "    def compute_loss(self, X, y):\n",
    "        square_error = 0\n",
    "        for [i, j], rating in zip(X, y):\n",
    "            z = self.sigmoid(self.U[i] @ self.V[j])\n",
    "            a = rating - z\n",
    "            #a = rating - self.U[i] @ self.V[j]\n",
    "            square_error += a ** 2\n",
    "        loss = 0.5 * square_error + self.lambda_U / 2 * np.sum(self.U ** 2) + self.lambda_V / 2 * np.sum(self.V ** 2)\n",
    "        return loss"
   ]
  },
  {
   "cell_type": "code",
   "execution_count": null,
   "metadata": {},
   "outputs": [],
   "source": [
    "def save_cv_results(filename, cv_results):\n",
    "    with open(filename, 'w') as f:\n",
    "        writer = csv.writer(f)\n",
    "        header = []\n",
    "        params = []\n",
    "        for param in cv_results['params'][0]:\n",
    "            params.append(param)\n",
    "        header.extend(params)\n",
    "        header.extend(['Avg. test RMSE', 'Avg. train RMSE', 'Avg. training time'])\n",
    "        writer.writerow(header)\n",
    "        for i in range(len(cv_results['params'])):\n",
    "            row = []\n",
    "            for param in params:\n",
    "                row.append(cv_results['params'][i][param])\n",
    "            row.extend([\n",
    "                -cv_results['mean_test_score'][i],\n",
    "                -cv_results['mean_train_score'][i],\n",
    "                cv_results['mean_fit_time'][i]\n",
    "            ])\n",
    "            writer.writerow(row)\n",
    "\n",
    "def get_best_params(cv_results):\n",
    "    idx = np.argmax(cv_results['mean_test_score'])\n",
    "    return cv_results['params'][idx]"
   ]
  },
  {
   "cell_type": "code",
   "execution_count": null,
   "metadata": {},
   "outputs": [],
   "source": [
    "# use cross validation to find optimal regularization hyperparameters\n",
    "def pmf_cv(X_train, y_train, params, results_filename):\n",
    "    pmf = PMF(n_users, n_items, learning_rate=0.1, verbose=True)\n",
    "    cv = ShuffleSplit(n_splits=5, test_size=0.2)\n",
    "    n_jobs = max(1, multiprocessing.cpu_count() // 2)\n",
    "    model = GridSearchCV(pmf, params, cv=cv, \\\n",
    "                         n_jobs=n_jobs, return_train_score=True)\n",
    "    model.fit(X_train, y_train)\n",
    "    save_cv_results(results_filename, model.cv_results_)\n",
    "    print('Best paramters in terms of average validation RMSE')\n",
    "    best_params = get_best_params(model.cv_results_)\n",
    "    print(best_params)\n",
    "    return best_params"
   ]
  },
  {
   "cell_type": "code",
   "execution_count": null,
   "metadata": {},
   "outputs": [],
   "source": [
    "random.seed(52)\n",
    "np.random.seed(12)\n",
    "\n",
    "data = np.load('data.npz')\n",
    "scaler = MinMaxScaler()\n",
    "n_users = np.max(data['user_id'])\n",
    "n_items = np.max(data['item_id'])\n",
    "X = np.concatenate((data['user_id'] - 1, data['item_id'] - 1), axis=1)\n",
    "y = scaler.fit_transform(data['rating'].astype(np.float64)).flatten()\n",
    "X_train, X_test, y_train, y_test = train_test_split(X, y, test_size=0.2)"
   ]
  },
  {
   "cell_type": "code",
   "execution_count": null,
   "metadata": {},
   "outputs": [],
   "source": [
    "# use cross validation to find the optimal regularization hyperparameters\n",
    "params = {\n",
    "    'n_factors': [2],\n",
    "    'lambda_U': [0.1, 1, 10, 100],\n",
    "    'lambda_V': [0.1, 1, 10, 100],\n",
    "}\n",
    "best_params = pmf_cv(X_train, y_train, params, 'cv_reg.csv')"
   ]
  },
  {
   "cell_type": "code",
   "execution_count": null,
   "metadata": {},
   "outputs": [],
   "source": [
    "# use cross validation to find the optimal number of latent factors\n",
    "best_lambda_U = best_params['lambda_U']\n",
    "best_lambda_V = best_params['lambda_V']\n",
    "params = {\n",
    "    'n_factors': [1, 2, 3, 4, 5],\n",
    "    'lambda_U': [best_lambda_U],\n",
    "    'lambda_V': [best_lambda_V]\n",
    "}\n",
    "best_params = pmf_cv(X_train, y_train, params, 'cv_factors.csv')"
   ]
  },
  {
   "cell_type": "code",
   "execution_count": null,
   "metadata": {},
   "outputs": [],
   "source": [
    "# train the final using the optimal parameters\n",
    "pmf = PMF(n_users, n_items, **best_params, verbose=True)\n",
    "pmf.fit(X_train, y_train)\n",
    "train_rmse = -pmf.score(X_train, y_train)\n",
    "test_rmse = -pmf.score(X_test, y_test)\n",
    "print(f'Training set RMSE: {train_rmse}')\n",
    "print(f'Test set RMSE: {test_rmse}')"
   ]
  },
  {
   "cell_type": "code",
   "execution_count": null,
   "metadata": {
    "scrolled": false
   },
   "outputs": [],
   "source": []
  },
  {
   "cell_type": "code",
   "execution_count": null,
   "metadata": {},
   "outputs": [],
   "source": []
  }
 ],
 "metadata": {
  "kernelspec": {
   "display_name": "Python 3",
   "language": "python",
   "name": "python3"
  },
  "language_info": {
   "codemirror_mode": {
    "name": "ipython",
    "version": 3
   },
   "file_extension": ".py",
   "mimetype": "text/x-python",
   "name": "python",
   "nbconvert_exporter": "python",
   "pygments_lexer": "ipython3",
   "version": "3.6.3"
  }
 },
 "nbformat": 4,
 "nbformat_minor": 2
}
