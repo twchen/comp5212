{
 "cells": [
  {
   "cell_type": "code",
   "execution_count": null,
   "metadata": {},
   "outputs": [],
   "source": [
    "import numpy as np\n",
    "from sklearn.base import BaseEstimator\n",
    "from sklearn.preprocessing import MinMaxScaler\n",
    "from sklearn.model_selection import ShuffleSplit, GridSearchCV, train_test_split\n",
    "from collections import deque\n",
    "import multiprocessing"
   ]
  },
  {
   "cell_type": "code",
   "execution_count": null,
   "metadata": {},
   "outputs": [],
   "source": [
    "class PMF(BaseEstimator):\n",
    "    def __init__(self, n_users, n_items, n_factors=30, lambda_U=0.1, lambda_V=0.1, \\\n",
    "                 learning_rate=0.1, max_iter=2000, tol=1e-3, patience=20, \\\n",
    "                 verbose=False, log_interval=20):\n",
    "        self.n_users = n_users\n",
    "        self.n_items = n_items\n",
    "        self.n_factors = n_factors\n",
    "        self.lambda_U = lambda_U\n",
    "        self.lambda_V = lambda_V\n",
    "        self.learning_rate = learning_rate\n",
    "        self.max_iter = max_iter\n",
    "        self.tol = tol\n",
    "        self.patience = max(3, patience)\n",
    "        self.verbose = verbose\n",
    "        self.log_interval = log_interval\n",
    "\n",
    "    # X: rows of (user_id, item_id)\n",
    "    # y: corresponding ratings\n",
    "    def fit(self, X, y):\n",
    "        self.U = np.random.uniform(-0.01, 0.01, size=(self.n_users, self.n_factors))\n",
    "        self.V = np.random.uniform(-0.01, 0.01, size=(self.n_items, self.n_factors))\n",
    "        history = deque([np.inf] * self.patience, maxlen=self.patience)\n",
    "        for n_iter in range(0, self.max_iter):\n",
    "            loss = self.compute_loss(X, y)\n",
    "            if self.verbose and n_iter % self.log_interval == 0:\n",
    "                print(f'Iteration {n_iter}, Loss: {loss}')\n",
    "            recent_losses = [history[i] for i in range(-3, 0)]\n",
    "            if max(recent_losses) - loss < self.tol and self.learning_rate > 1e-6:\n",
    "                print(f'{self.learning_rate}')\n",
    "                self.learning_rate /= 5\n",
    "            if max(history) - loss < self.tol:\n",
    "                break\n",
    "            history.append(loss)\n",
    "            grad_U = self.lambda_U * self.U\n",
    "            grad_V = self.lambda_V * self.V\n",
    "            for [i, j], rating in zip(X, y):\n",
    "                z = self.sigmoid(self.U[i] @ self.V[j])\n",
    "                a = (rating - z) * z * (1 - z)\n",
    "                #a = rating - self.U[i] @ self.V[j]\n",
    "                grad_U[i] -= a * self.V[j]\n",
    "                grad_V[j] -= a * self.U[i]\n",
    "            self.U -= self.learning_rate * grad_U\n",
    "            self.V -= self.learning_rate * grad_V\n",
    "        return self\n",
    "    \n",
    "    @staticmethod\n",
    "    def sigmoid(X):\n",
    "        # prevent overflow\n",
    "        X = np.clip(X, -500, 500)\n",
    "        return 1 / (1 + np.exp(-X))\n",
    "    \n",
    "    def predict(self, X):\n",
    "        y = np.zeros(X.shape[0])\n",
    "        for idx, [i, j] in enumerate(X):\n",
    "            y[idx] = self.sigmoid(self.U[i] @ self.V[j])\n",
    "        return y\n",
    "\n",
    "    def compute_loss(self, X, y):\n",
    "        square_error = 0\n",
    "        for [i, j], rating in zip(X, y):\n",
    "            z = self.sigmoid(self.U[i] @ self.V[j])\n",
    "            a = rating - z\n",
    "            #a = rating - self.U[i] @ self.V[j]\n",
    "            square_error += a ** 2\n",
    "        loss = 0.5 * square_error + self.lambda_U / 2 * np.sum(self.U ** 2) + self.lambda_V / 2 * np.sum(self.V ** 2)\n",
    "        return loss"
   ]
  },
  {
   "cell_type": "code",
   "execution_count": null,
   "metadata": {},
   "outputs": [],
   "source": [
    "data = np.load('data.npz')\n",
    "scaler = MinMaxScaler()\n",
    "n_users = np.max(data['user_id'])\n",
    "n_items = np.max(data['item_id'])\n",
    "X = np.concatenate((data['user_id'] - 1, data['item_id'] - 1), axis=1)\n",
    "y = scaler.fit_transform(data['rating'].astype(np.float64)).flatten()\n",
    "X_train, X_test, y_train, y_test = train_test_split(X, y, test_size=0.2, random_state=52)"
   ]
  },
  {
   "cell_type": "code",
   "execution_count": null,
   "metadata": {},
   "outputs": [],
   "source": [
    "# cross validation\n",
    "pmf = PMF(n_users, n_items, learning_rate=0.1, verbose=True)\n",
    "params = {\n",
    "    'n_factors': [2],\n",
    "    'lambda_U': [0.1, 1, 10, 100],\n",
    "    'lambda_V': [0.1, 1, 10, 100],\n",
    "}\n",
    "cv = ShuffleSplit(n_splits=5, test_size=0.2, random_state=12)\n",
    "n_jobs = multiprocessing.cpu_count() // 2\n",
    "model = GridSearchCV(pmf, params, cv=cv, scoring='neg_mean_squared_error', n_jobs=n_jobs)\n",
    "model.fit(X_train, y_train)"
   ]
  },
  {
   "cell_type": "code",
   "execution_count": null,
   "metadata": {},
   "outputs": [],
   "source": [
    "pmf = PMF(n_users, n_items, n_factors=2, lambda_U=0.1, lambda_V=0.1, learning_rate=0.1, verbose=True)"
   ]
  },
  {
   "cell_type": "code",
   "execution_count": null,
   "metadata": {
    "scrolled": false
   },
   "outputs": [],
   "source": [
    "pmf.fit(X, y)"
   ]
  },
  {
   "cell_type": "code",
   "execution_count": null,
   "metadata": {},
   "outputs": [],
   "source": []
  },
  {
   "cell_type": "code",
   "execution_count": null,
   "metadata": {},
   "outputs": [],
   "source": []
  }
 ],
 "metadata": {
  "kernelspec": {
   "display_name": "Python 3",
   "language": "python",
   "name": "python3"
  },
  "language_info": {
   "codemirror_mode": {
    "name": "ipython",
    "version": 3
   },
   "file_extension": ".py",
   "mimetype": "text/x-python",
   "name": "python",
   "nbconvert_exporter": "python",
   "pygments_lexer": "ipython3",
   "version": "3.6.3"
  }
 },
 "nbformat": 4,
 "nbformat_minor": 2
}
