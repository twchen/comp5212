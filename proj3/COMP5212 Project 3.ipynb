{
 "cells": [
  {
   "cell_type": "code",
   "execution_count": null,
   "metadata": {},
   "outputs": [],
   "source": [
    "import numpy as np\n",
    "from sklearn.base import BaseEstimator\n",
    "from sklearn.preprocessing import MinMaxScaler\n",
    "from sklearn.model_selection import ShuffleSplit, GridSearchCV"
   ]
  },
  {
   "cell_type": "code",
   "execution_count": null,
   "metadata": {},
   "outputs": [],
   "source": [
    "class PMF(BaseEstimator):\n",
    "    def __init__(self, n_users, n_items, n_factors=30, lambda_U=0.1, lambda_V=0.1, \\\n",
    "                 learning_rate=1e-3, max_iter=1000, tol=1e-4):\n",
    "        self.n_users = n_users\n",
    "        self.n_iterms = n_items\n",
    "        self.n_factors = n_factors\n",
    "        self.lambda_U = lambda_U\n",
    "        self.lambda_V = lambda_V\n",
    "        self.learning_rate = learning_rate\n",
    "        self.max_iter = max_iter\n",
    "        self.tol = tol\n",
    "    \n",
    "    # X: rows of (user_id, item_id)\n",
    "    # y: corresponding ratings\n",
    "    def fit(self, X, y):\n",
    "        r = self.n_factors\n",
    "        n, m = self.n_users, self.n_items\n",
    "        self.U = np.random.uniform(-0.01, 0.01, size=(n, r))\n",
    "        self.V = np.random.uniform(-0.01, 0.01, size=(m, r))\n",
    "        for n_iter in range(0, self.max_iter):\n",
    "            E = self.score(X, y)\n",
    "            print(f'Iteration {n_iter + 1}, Error: {E}')\n",
    "            grad_U = self.lambda_U * self.U\n",
    "            grad_V = self.lambda_V * self.V\n",
    "            for [i, j], rating in zip(X, y):\n",
    "                #z = self.g(self.U[i] @ self.V[j])\n",
    "                #a = (rating - z) * z * (1 - z)\n",
    "                a = rating - self.U[i] @ self.V[j]\n",
    "                grad_U[i] -= a * self.V[j]\n",
    "                grad_V[j] -= a * self.U[i]\n",
    "            self.U -= self.learning_rate * grad_U\n",
    "            self.V -= self.learning_rate * grad_V\n",
    "        return self\n",
    "    \n",
    "    # sigmoid function\n",
    "    @staticmethod\n",
    "    def g(X):\n",
    "        return 1 / (1 - np.exp(-X))\n",
    "        \n",
    "    def score(self, X, y):\n",
    "        mse = 0.0\n",
    "        for [i, j], rating in zip(X, y):\n",
    "            #z = self.g(self.U[i] @ self.V[j])\n",
    "            #a = rating - z\n",
    "            a = rating - self.U[i] @ self.V[j]\n",
    "            mse += a ** 2\n",
    "        E = 0.5 * mse + self.lambda_U / 2 * np.sum(self.U ** 2) + self.lambda_V / 2 * np.sum(self.V ** 2)\n",
    "        return E"
   ]
  },
  {
   "cell_type": "code",
   "execution_count": null,
   "metadata": {},
   "outputs": [],
   "source": [
    "data = np.load('data.npz')\n",
    "scaler = MinMaxScaler()\n",
    "n_users = np.max(data['user_id'])\n",
    "n_items = np.max(data['item_id'])\n",
    "X = np.concatenate((data['user_id'] - 1, data['item_id'] - 1), axis=1)\n",
    "y = scaler.fit_transform(data['rating'].astype(np.float64)).flatten()"
   ]
  },
  {
   "cell_type": "code",
   "execution_count": null,
   "metadata": {},
   "outputs": [],
   "source": [
    "pmf = PMF(n_users, n_items)\n",
    "params = {\n",
    "    'n_factors': [5],\n",
    "    'lambda_U': [0.1, 1, 10, 100],\n",
    "    'lambda_V': [0.1, 1, 10, 100],\n",
    "}\n",
    "cv = ShuffleSplit(n_splits=5, test_size=0.2, random_state=0)\n",
    "model = GridSearchCV(pmf, params, cv=cv)"
   ]
  },
  {
   "cell_type": "code",
   "execution_count": null,
   "metadata": {},
   "outputs": [],
   "source": []
  }
 ],
 "metadata": {
  "kernelspec": {
   "display_name": "Python 3",
   "language": "python",
   "name": "python3"
  },
  "language_info": {
   "codemirror_mode": {
    "name": "ipython",
    "version": 3
   },
   "file_extension": ".py",
   "mimetype": "text/x-python",
   "name": "python",
   "nbconvert_exporter": "python",
   "pygments_lexer": "ipython3",
   "version": "3.6.3"
  }
 },
 "nbformat": 4,
 "nbformat_minor": 2
}
